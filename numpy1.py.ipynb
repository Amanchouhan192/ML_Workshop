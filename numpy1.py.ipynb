{
 "cells": [
  {
   "cell_type": "code",
   "execution_count": 2,
   "metadata": {},
   "outputs": [],
   "source": [
    "import numpy as np\n"
   ]
  },
  {
   "cell_type": "code",
   "execution_count": 6,
   "metadata": {},
   "outputs": [
    {
     "name": "stdout",
     "output_type": "stream",
     "text": [
      "[[ 5.1  5.1  5.1  5.1]\n",
      " [ 5.1  5.1  5.1  5.1]\n",
      " [ 5.1  5.1  5.1  5.1]\n",
      " [ 5.1  5.1  5.1  5.1]]\n"
     ]
    }
   ],
   "source": [
    "a=np.full((4,4),5.1)\n",
    "print(a)"
   ]
  },
  {
   "cell_type": "code",
   "execution_count": 7,
   "metadata": {
    "collapsed": true
   },
   "outputs": [],
   "source": [
    "a=np.arange(0,7,1)"
   ]
  },
  {
   "cell_type": "code",
   "execution_count": 8,
   "metadata": {},
   "outputs": [
    {
     "name": "stdout",
     "output_type": "stream",
     "text": [
      "[0 1 2 3 4 5 6]\n"
     ]
    }
   ],
   "source": [
    "print(a)"
   ]
  },
  {
   "cell_type": "code",
   "execution_count": 9,
   "metadata": {
    "collapsed": true
   },
   "outputs": [],
   "source": [
    "b =  np.arange(0,20,2)"
   ]
  },
  {
   "cell_type": "code",
   "execution_count": 10,
   "metadata": {},
   "outputs": [
    {
     "name": "stdout",
     "output_type": "stream",
     "text": [
      "[ 0  2  4  6  8 10 12 14 16 18]\n"
     ]
    }
   ],
   "source": [
    "print(b)"
   ]
  },
  {
   "cell_type": "code",
   "execution_count": 11,
   "metadata": {
    "collapsed": true
   },
   "outputs": [],
   "source": [
    "c  = np.arange(0,300,3)"
   ]
  },
  {
   "cell_type": "code",
   "execution_count": 12,
   "metadata": {},
   "outputs": [
    {
     "name": "stdout",
     "output_type": "stream",
     "text": [
      "[  0   3   6   9  12  15  18  21  24  27  30  33  36  39  42  45  48  51\n",
      "  54  57  60  63  66  69  72  75  78  81  84  87  90  93  96  99 102 105\n",
      " 108 111 114 117 120 123 126 129 132 135 138 141 144 147 150 153 156 159\n",
      " 162 165 168 171 174 177 180 183 186 189 192 195 198 201 204 207 210 213\n",
      " 216 219 222 225 228 231 234 237 240 243 246 249 252 255 258 261 264 267\n",
      " 270 273 276 279 282 285 288 291 294 297]\n"
     ]
    }
   ],
   "source": [
    "print(c)"
   ]
  },
  {
   "cell_type": "code",
   "execution_count": 13,
   "metadata": {},
   "outputs": [
    {
     "name": "stdout",
     "output_type": "stream",
     "text": [
      "[ 0.    0.25  0.5   0.75  1.  ]\n"
     ]
    }
   ],
   "source": [
    "#create an array of even space between the given range of values\n",
    "a=np.linspace(0, 1, 5)\n",
    "print(a)"
   ]
  },
  {
   "cell_type": "code",
   "execution_count": 14,
   "metadata": {},
   "outputs": [
    {
     "name": "stdout",
     "output_type": "stream",
     "text": [
      "[[ 1.  0.  0.]\n",
      " [ 0.  1.  0.]\n",
      " [ 0.  0.  1.]]\n"
     ]
    }
   ],
   "source": [
    "#create an identity matrix of size 3 x 3\n",
    "a=np.eye(3)\n",
    "print(a)\n"
   ]
  },
  {
   "cell_type": "code",
   "execution_count": 15,
   "metadata": {},
   "outputs": [
    {
     "name": "stdout",
     "output_type": "stream",
     "text": [
      "[[-0.33081073 -0.24333905 -0.79608776 -0.29234811]\n",
      " [-0.67762414 -0.01162852 -1.06047824  0.46709763]\n",
      " [ 1.25761538  0.96610614  1.23839137  2.07633375]]\n"
     ]
    }
   ],
   "source": [
    "#create a 3x4 array with mean of Standard i.e. N(0,1)\n",
    "a=np.random.normal(0, 1, (3,4))\n",
    "print(a)"
   ]
  },
  {
   "cell_type": "code",
   "execution_count": 17,
   "metadata": {},
   "outputs": [
    {
     "name": "stdout",
     "output_type": "stream",
     "text": [
      "[[[ 3.18001669  3.0416034  -2.29658078  3.54356589  2.10381856]\n",
      "  [ 1.4399458   3.35645096  3.74357423  1.96616551  2.34517845]\n",
      "  [ 0.72282938  3.0774711   2.385286   -0.41076023 -1.35792778]\n",
      "  [ 1.69986411  1.5353013  -0.46133633  3.25387849 -2.41678185]]\n",
      "\n",
      " [[ 6.09539816  2.00644161  0.14354534 -0.49542026  1.27949795]\n",
      "  [ 0.88761482  4.16424686 -0.30252056 -0.53949141  0.60028558]\n",
      "  [ 0.04612524  0.37511698  4.15437506  0.55161763  0.62802035]\n",
      "  [-0.57573435 -0.31367908 -0.08335371 -0.16873229  5.69603773]]\n",
      "\n",
      " [[ 2.22557614  1.32963622  1.21981311  1.82040101  3.98050014]\n",
      "  [ 3.96743158  2.19703934  5.79177947  1.63341201  3.13550079]\n",
      "  [ 1.94839429  3.95692135  5.21627908  0.13155356  1.44424076]\n",
      "  [ 3.55942541  4.59313214  1.25508932  0.97588913  2.13277794]]]\n"
     ]
    }
   ],
   "source": [
    "#create a 3x4x5 array with mean 0 and standard deviation 2 in a norm\n",
    "#al Distribution i.e. N(1.4,4)\n",
    "a=np.random.normal(1.4, 2, (3,4,5))\n",
    "print(a)\n"
   ]
  },
  {
   "cell_type": "code",
   "execution_count": 19,
   "metadata": {},
   "outputs": [
    {
     "name": "stdout",
     "output_type": "stream",
     "text": [
      "[1 0 9 1 9 3 4 5 4 0]\n"
     ]
    }
   ],
   "source": [
    "#to understand below function\n",
    "a = np.random.randint(10, size=10) #one dimension\n",
    "print(a)\n"
   ]
  },
  {
   "cell_type": "code",
   "execution_count": 20,
   "metadata": {},
   "outputs": [
    {
     "name": "stdout",
     "output_type": "stream",
     "text": [
      "[[9 6 1 5]\n",
      " [3 5 8 3]\n",
      " [8 5 6 3]]\n"
     ]
    }
   ],
   "source": [
    "a = np.random.randint(10, size=(3,4)) #two dimension\n",
    "print(a)\n"
   ]
  },
  {
   "cell_type": "code",
   "execution_count": 21,
   "metadata": {},
   "outputs": [
    {
     "name": "stdout",
     "output_type": "stream",
     "text": [
      "x3 ndim: 3\n",
      "x3 shape: (3, 4, 5)\n",
      "x3 size:  60\n"
     ]
    }
   ],
   "source": [
    "#set a random seed\n",
    "np.random.seed(0)\n",
    "x1 = np.random.randint(10, size=6) #one dimension\n",
    "x2 = np.random.randint(10, size=(3,4)) #two dimension\n",
    "x3 = np.random.randint(10, size=(3,4,5)) #three dimension\n",
    "print(\"x3 ndim:\", x3.ndim)\n",
    "print(\"x3 shape:\", x3.shape)\n",
    "print(\"x3 size: \", x3.size)\n",
    "# x3 ndim: 3\n",
    "# x3 shape: (3, 4, 5)\n",
    "# x3 size: 60"
   ]
  },
  {
   "cell_type": "code",
   "execution_count": 22,
   "metadata": {
    "collapsed": true
   },
   "outputs": [],
   "source": [
    "#The important thing to remember is that indexing in python starts at zero."
   ]
  },
  {
   "cell_type": "code",
   "execution_count": 24,
   "metadata": {},
   "outputs": [
    {
     "name": "stdout",
     "output_type": "stream",
     "text": [
      "[7 3 4 5 8 2]\n",
      "7\n",
      "4\n",
      "2\n",
      "8\n",
      "[[3 7 5 5]\n",
      " [0 1 5 9]\n",
      " [3 0 5 0]]\n",
      "7\n",
      "0\n",
      "[[12  7  5  5]\n",
      " [ 0  1  5  9]\n",
      " [ 3  0  5  0]]\n"
     ]
    }
   ],
   "source": [
    "a = np.array([7, 3, 4, 5, 8, 2])\n",
    "\n",
    "print(a)\n",
    "#[4 3 4 4 8 4]\n",
    "print(a[0])\n",
    "#7\n",
    "print(a[2])\n",
    "#4\n",
    "print(a[-1])\n",
    "#2\n",
    "print(a[-2])\n",
    "#8\n",
    "#In a multidimensional array, we need to specify row and column inde\n",
    "\n",
    "a=np.array([[3, 7, 5, 5],[0, 1, 5, 9],[3, 0, 5, 0]])\n",
    "print(a)\n",
    "# [[3 7 5 5]\n",
    "# [0 1 5 9]\n",
    "# [3 0 5 0]]\n",
    "#1st row and 2nd column value\n",
    "print(a[0,1])\n",
    "#7\n",
    "#3rd row and last value from the 3rd column\n",
    "print(a[2,-1])\n",
    "#0\n",
    "#Replace value at 0,0 index\n",
    "a[0,0] = 12\n",
    "print(a)\n",
    "# [[12 7 5 5]\n",
    "# [0 1 5 9]\n",
    "# [3 0 5 0]]"
   ]
  },
  {
   "cell_type": "code",
   "execution_count": 25,
   "metadata": {},
   "outputs": [
    {
     "name": "stdout",
     "output_type": "stream",
     "text": [
      "[0 1 2 3 4 5 6 7 8 9]\n",
      "[0 1 2 3 4]\n",
      "[4 5 6 7 8 9]\n",
      "[4 5 6]\n",
      "[0 2 4 6 8]\n",
      "[1 3 5 7 9]\n",
      "[9 8 7 6 5 4 3 2 1 0]\n"
     ]
    }
   ],
   "source": [
    "x = np.arange(10)\n",
    "\n",
    "print(x)\n",
    "#[0, 1, 2, 3, 4, 5, 6, 7, 8, 9]\n",
    "#from start to 4th position\n",
    "print(x[:5])\n",
    "#[0, 1, 2, 3, 4]\n",
    "#from 4th position to end\n",
    "print(x[4:])\n",
    "#[4, 5, 6, 7, 8, 9]\n",
    "#from 4th to 6th position\n",
    "print(x[4:7])\n",
    "#[4, 5, 6]\n",
    "\n",
    "#Return elements at even place\n",
    "print(x[ : : 2])\n",
    "#[0, 2, 4, 6, 8]\n",
    "#Return elements from first position step by two\n",
    "print(x[1::2])\n",
    "#[1, 3, 5, 7, 9]\n",
    "#Reverse the array\n",
    "print(x[::-1])\n",
    "#[9, 8, 7, 6, 5, 4, 3, 2, 1, 0]"
   ]
  },
  {
   "cell_type": "code",
   "execution_count": 27,
   "metadata": {},
   "outputs": [
    {
     "name": "stdout",
     "output_type": "stream",
     "text": [
      "First array:\n",
      "[[  0.   0.   0.]\n",
      " [ 10.  10.  10.]\n",
      " [ 20.  20.  20.]\n",
      " [ 30.  30.  30.]]\n",
      "\n",
      "Second array:\n",
      "[ 1.  2.  3.]\n",
      "\n",
      "First Array + Second Array\n",
      "[[  1.   2.   3.]\n",
      " [ 11.  12.  13.]\n",
      " [ 21.  22.  23.]\n",
      " [ 31.  32.  33.]]\n"
     ]
    }
   ],
   "source": [
    "a = np.array([[0.0,0.0,0.0],[10.0,10.0,10.0],[20.0,20.0,20.0],[30.0,30.0,30.0]])\n",
    "b = np.array([1.0,2.0,3.0])\n",
    "\n",
    "print('First array:' )\n",
    "print (a)\n",
    "print()\n",
    "print ('Second array:' )\n",
    "print (b)\n",
    "print()\n",
    "print ('First Array + Second Array' )\n",
    "print (a + b)"
   ]
  },
  {
   "cell_type": "code",
   "execution_count": 28,
   "metadata": {},
   "outputs": [
    {
     "name": "stdout",
     "output_type": "stream",
     "text": [
      "[[  6.   8.]\n",
      " [ 10.  12.]]\n",
      "[[  6.   8.]\n",
      " [ 10.  12.]]\n",
      "[[-4. -4.]\n",
      " [-4. -4.]]\n",
      "[[-4. -4.]\n",
      " [-4. -4.]]\n",
      "[[  5.  12.]\n",
      " [ 21.  32.]]\n",
      "[[  5.  12.]\n",
      " [ 21.  32.]]\n",
      "[[ 0.2         0.33333333]\n",
      " [ 0.42857143  0.5       ]]\n",
      "[[ 0.2         0.33333333]\n",
      " [ 0.42857143  0.5       ]]\n",
      "[[ 1.          1.41421356]\n",
      " [ 1.73205081  2.        ]]\n",
      "[[  2.71828183   7.3890561 ]\n",
      " [ 20.08553692  54.59815003]]\n"
     ]
    }
   ],
   "source": [
    "x = np.array([[1,2],[3,4]], dtype=np.float64)\n",
    "y = np.array([[5,6],[7,8]], dtype=np.float64)\n",
    "# Elementwise sum; both produce the array\n",
    "print(x + y)\n",
    "print(np.add(x, y))\n",
    "# [[ 6.0 8.0]\n",
    "# [10.0 12.0]]\n",
    "# Elementwise difference; both produce the array\n",
    "print(x - y)\n",
    "print(np.subtract(x, y))\n",
    "# [[-4.0 -4.0]\n",
    "# [-4.0 -4.0]]\n",
    "# Elementwise product; both produce the array\n",
    "print(x * y)\n",
    "print(np.multiply(x, y))\n",
    "# [[ 5.0 12.0]\n",
    "# [21.0 32.0]]\n",
    "# Elementwise division; both produce the array\n",
    "print(x / y)\n",
    "print(np.divide(x, y))\n",
    "# [[ 0.2 0.33333333]\n",
    "# [ 0.42857143 0.5 ]]\n",
    "# Elementwise square root; produces the array\n",
    "print(np.sqrt(x))\n",
    "# [[ 1. 1.41421356]\n",
    "# [ 1.73205081 2. ]]\n",
    "# Elementwise square root; produces the array\n",
    "print(np.exp(x))\n",
    "# [[ 2.71828183 7.3890561 ]\n",
    "# [ 20.08553692 54.59815003]]"
   ]
  },
  {
   "cell_type": "code",
   "execution_count": 29,
   "metadata": {},
   "outputs": [
    {
     "name": "stdout",
     "output_type": "stream",
     "text": [
      "219\n",
      "219\n",
      "[29 67]\n",
      "[29 67]\n",
      "[[19 22]\n",
      " [43 50]]\n",
      "[[19 22]\n",
      " [43 50]]\n"
     ]
    }
   ],
   "source": [
    "x = np.array([[1,2],[3,4]])\n",
    "y = np.array([[5,6],[7,8]])\n",
    "v = np.array([9,10])\n",
    "w = np.array([11, 12])\n",
    "# Inner product of vectors; both produce 219\n",
    "print(v.dot(w))\n",
    "print(np.dot(v, w))\n",
    "# Matrix / vector product; both produce the rank 1 array [29 67]\n",
    "print(x.dot(v))\n",
    "print(np.dot(x, v))\n",
    "# Matrix / matrix product; both produce the rank 2 array\n",
    "# [[19 22]\n",
    "# [43 50]]\n",
    "print(x.dot(y))\n",
    "print(np.dot(x, y))"
   ]
  },
  {
   "cell_type": "code",
   "execution_count": 32,
   "metadata": {},
   "outputs": [
    {
     "name": "stdout",
     "output_type": "stream",
     "text": [
      "[[4 3 4 4]\n",
      " [4 0 6 4]\n",
      " [3 2 5 5]]\n",
      "44\n",
      "[11  5 15 13]\n",
      "[15 14 15]\n"
     ]
    }
   ],
   "source": [
    "x = np.random.randint(7,size=(3,4))\n",
    "\n",
    "print(x)\n",
    "# [[4 0 5 0]\n",
    "# [3 2 3 2]\n",
    "# [4 6 3 6]]\n",
    "print(np.sum(x)) # Compute sum of all elements; prints \"38\"\n",
    "print(np.sum(x, axis=0)) # Compute sum of each column; prints \"[11 8 11 8]\"\n",
    "print(np.sum(x, axis=1)) # Compute sum of each row; prints \"[9 10 19]\""
   ]
  },
  {
   "cell_type": "code",
   "execution_count": 33,
   "metadata": {},
   "outputs": [
    {
     "name": "stdout",
     "output_type": "stream",
     "text": [
      "[[-0.89546656  0.3869025  -0.51080514 -1.18063218 -0.02818223]\n",
      " [ 0.42833187  0.06651722  0.3024719  -0.63432209 -0.36274117]\n",
      " [-0.67246045 -0.35955316 -0.81314628 -1.7262826   0.17742614]]\n",
      "[[-0.89546656  0.42833187 -0.67246045]\n",
      " [ 0.3869025   0.06651722 -0.35955316]\n",
      " [-0.51080514  0.3024719  -0.81314628]\n",
      " [-1.18063218 -0.63432209 -1.7262826 ]\n",
      " [-0.02818223 -0.36274117  0.17742614]]\n",
      "[6 7 4 5 4]\n",
      "[6 7 4 5 4]\n"
     ]
    }
   ],
   "source": [
    "x  = np.random.randn(3,5)\n",
    "print(x)\n",
    "# [[ 1.25441407 1.41910204 -0.74385608 -2.5174371 -1.50709602]\n",
    "# [ 1.14907613 -1.19357825 1.14104245 1.50944508 1.06777513]\n",
    "# [-0.68658948 0.01487332 -0.3756659 -0.03822364 0.36797447]]\n",
    "print(x.T)\n",
    "# [[ 1.25441407 1.14907613 -0.68658948]\n",
    "# [ 1.41910204 -1.19357825 0.01487332]\n",
    "# [-0.74385608 1.14104245 -0.3756659 ]\n",
    "# [-2.5174371 1.50944508 -0.03822364]\n",
    "# [-1.50709602 1.06777513 0.36797447]]\n",
    "# Note that taking the transpose of a rank 1 array does nothing:\n",
    "v = np.random.randint(3,12,size=5)\n",
    "print(v)\n",
    "# [11 9 9 4 9]\n",
    "print(v.T) # Prints \"[1 2 3]\"\n",
    "# [11 9 9 4 9]"
   ]
  },
  {
   "cell_type": "code",
   "execution_count": 34,
   "metadata": {},
   "outputs": [
    {
     "name": "stdout",
     "output_type": "stream",
     "text": [
      "[[-0.40178094 -0.22403878 -0.42018339  0.99982969  0.43103415]\n",
      " [-0.65091287 -1.49874039 -1.23063497  0.19400719 -0.99838235]\n",
      " [-0.3676376   1.73719932  0.59361275 -0.54236358 -1.71967238]]\n",
      "[[-0.40178094 -0.65091287 -0.3676376 ]\n",
      " [-0.22403878 -1.49874039  1.73719932]\n",
      " [-0.42018339 -1.23063497  0.59361275]\n",
      " [ 0.99982969  0.19400719 -0.54236358]\n",
      " [ 0.43103415 -0.99838235 -1.71967238]]\n",
      "[11  6 11  5 11]\n",
      "[11  6 11  5 11]\n"
     ]
    }
   ],
   "source": [
    "x = np.random.randn(3,5)\n",
    "print(x)\n",
    "# [[ 1.25441407 1.41910204 -0.74385608 -2.5174371 -1.50709602]\n",
    "# [ 1.14907613 -1.19357825 1.14104245 1.50944508 1.06777513]\n",
    "# [-0.68658948 0.01487332 -0.3756659 -0.03822364 0.36797447]]\n",
    "print(x.T)\n",
    "# [[ 1.25441407 1.14907613 -0.68658948]\n",
    "# [ 1.41910204 -1.19357825 0.01487332]\n",
    "# [-0.74385608 1.14104245 -0.3756659 ]\n",
    "# [-2.5174371 1.50944508 -0.03822364]\n",
    "# [-1.50709602 1.06777513 0.36797447]]\n",
    "# Note that taking the transpose of a rank 1 array does nothing:\n",
    "v = np.random.randint(3,12,size=5)\n",
    "print(v)\n",
    "# [11 9 9 4 9]\n",
    "print(v.T) # Prints \"[1 2 3]\"\n",
    "# [11 9 9 4 9]"
   ]
  },
  {
   "cell_type": "code",
   "execution_count": null,
   "metadata": {
    "collapsed": true
   },
   "outputs": [],
   "source": [
    "# In the above examples, wherever I used random array as an input. This output is generated by me. You\n",
    "# may find different values when you try to run it. However, the operation remains same"
   ]
  }
 ],
 "metadata": {
  "kernelspec": {
   "display_name": "Python 3",
   "language": "python",
   "name": "python3"
  },
  "language_info": {
   "codemirror_mode": {
    "name": "ipython",
    "version": 3
   },
   "file_extension": ".py",
   "mimetype": "text/x-python",
   "name": "python",
   "nbconvert_exporter": "python",
   "pygments_lexer": "ipython3",
   "version": "3.6.3"
  }
 },
 "nbformat": 4,
 "nbformat_minor": 2
}
